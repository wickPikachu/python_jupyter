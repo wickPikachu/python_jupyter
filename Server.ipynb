{
 "cells": [
  {
   "cell_type": "markdown",
   "metadata": {},
   "source": [
    "# Server"
   ]
  },
  {
   "cell_type": "code",
   "execution_count": null,
   "metadata": {},
   "outputs": [
    {
     "name": "stdout",
     "output_type": "stream",
     "text": [
      "Listening socket server\n"
     ]
    }
   ],
   "source": [
    "# import socket\n",
    "\n",
    "# HOST = '127.0.0.1'  # Standard loopback interface address (localhost)\n",
    "# PORT = 8808        # Port to listen on (non-privileged ports are > 1023)\n",
    "\n",
    "# with socket.socket(socket.AF_INET, socket.SOCK_STREAM) as s:\n",
    "#     s.bind((HOST, PORT))\n",
    "#     s.listen()\n",
    "#     print('Listening socket server')\n",
    "#     conn, addr = s.accept()\n",
    "#     with conn:\n",
    "#         print('Connected by', addr)\n",
    "#         while True:\n",
    "#             data = conn.recv(1024)\n",
    "#             if not data:\n",
    "#                 break\n",
    "#             print(data)\n",
    "#             conn.sendall(data)"
   ]
  },
  {
   "cell_type": "code",
   "execution_count": null,
   "metadata": {},
   "outputs": [
    {
     "name": "stdout",
     "output_type": "stream",
     "text": [
      "socket binded to post 8808\n",
      "socket is listening\n",
      "Connected to : 127.0.0.1 : 43300\n",
      "recv: {\"action\":1,\"data\":\"STATE:1:cr8300c\\/cr14200c\\/cf:4c9d|4sTs\\/3cAhAs\\/3d:14200|-14200\",\"type\":1,\"uuid\":\"03ce94ba-8ba5-442b-95f6-9f4892e0ea58\"}\n",
      "\n",
      "{\"action\":1,\"data\":\"STATE:1:cr8300c\\/cr14200c\\/cf:4c9d|4sTs\\/3cAhAs\\/3d:14200|-14200\",\"type\":1,\"uuid\":\"03ce94ba-8ba5-442b-95f6-9f4892e0ea58\"}\n",
      "recv: {\"action\":1,\"data\":\"STATE:2:r4350c\\/cc\\/cr5550c\\/cc:8h5s|8c4h\\/AhKhTd\\/4d\\/Jd:-5550|5550\",\"type\":1,\"uuid\":\"78543995-2471-46c1-8177-381be30149f6\"}\n",
      "\n",
      "{\"action\":1,\"data\":\"STATE:2:r4350c\\/cc\\/cr5550c\\/cc:8h5s|8c4h\\/AhKhTd\\/4d\\/Jd:-5550|5550\",\"type\":1,\"uuid\":\"78543995-2471-46c1-8177-381be30149f6\"}\n",
      "recv: {\"action\":1,\"data\":\"STATE:3:cc\\/cr10400c\\/cc\\/cr10800c:7c6d|8c3d\\/JsJhAc\\/8s\\/6h:-10800|10800\",\"type\":1,\"uuid\":\"3d1e02c4-81bb-456b-8faf-4a41d8542c2f\"}\n",
      "\n",
      "{\"action\":1,\"data\":\"STATE:3:cc\\/cr10400c\\/cc\\/cr10800c:7c6d|8c3d\\/JsJhAc\\/8s\\/6h:-10800|10800\",\"type\":1,\"uuid\":\"3d1e02c4-81bb-456b-8faf-4a41d8542c2f\"}\n",
      "recv: {\"action\":1,\"data\":\"STATE:4:cc\\/cc\\/cr3200c\\/cc:4d4h|6cJh\\/Ad3s5d\\/Kh\\/2h:3200|-3200\",\"type\":1,\"uuid\":\"0521773c-8fa2-48a2-859e-c5d8ce8b89e1\"}\n",
      "\n",
      "{\"action\":1,\"data\":\"STATE:4:cc\\/cc\\/cr3200c\\/cc:4d4h|6cJh\\/Ad3s5d\\/Kh\\/2h:3200|-3200\",\"type\":1,\"uuid\":\"0521773c-8fa2-48a2-859e-c5d8ce8b89e1\"}\n",
      "recv: {\"action\":1,\"data\":\"STATE:5:cc\\/cc\\/cr17900c\\/cf:9h2d|9s8s\\/2hAc4d\\/4s\\/Jc:17900|-17900\",\"type\":1,\"uuid\":\"29c12fc1-5ea3-41ba-98f3-433840805458\"}\n",
      "\n",
      "{\"action\":1,\"data\":\"STATE:5:cc\\/cc\\/cr17900c\\/cf:9h2d|9s8s\\/2hAc4d\\/4s\\/Jc:17900|-17900\",\"type\":1,\"uuid\":\"29c12fc1-5ea3-41ba-98f3-433840805458\"}\n"
     ]
    }
   ],
   "source": [
    "# import socket programming library \n",
    "import socket \n",
    "import json\n",
    "\n",
    "# import thread module \n",
    "from _thread import *\n",
    "import threading \n",
    "\n",
    "def read_recv_data(data):\n",
    "    a = 1\n",
    "\n",
    "def saveToCSV(j):\n",
    "    a = 1\n",
    "\n",
    "\n",
    "print_lock = threading.Lock() \n",
    "\n",
    "# thread fuction \n",
    "def threaded(c): \n",
    "    while True: \n",
    "        data_str = ''\n",
    "        success_uuids = []\n",
    "        try:\n",
    "            # data received from client \n",
    "            data = c.recv(1024)\n",
    "            print(\"recv: \" + data.decode('utf-8'))\n",
    "\n",
    "            data_str += data.decode('utf-8')\n",
    "            for d in data_str.splitlines():\n",
    "                print(d)\n",
    "                try:\n",
    "                    j = json.loads(d)\n",
    "                    uuid = j['uuid']\n",
    "                    success_uuids.append(uuid)\n",
    "                except:\n",
    "                    data_str = d\n",
    "                    \n",
    "            c.send(json.dumps({'success': success_uuids}).encode() + b'\\n')\n",
    "            success_uuids = []\n",
    "            \n",
    "            if not data: \n",
    "                print('Bye') \n",
    "\n",
    "                # lock released on exit \n",
    "                print_lock.release() \n",
    "                break\n",
    "\n",
    "            # reverse the given string from client \n",
    "    #         data = data[::-1] \n",
    "\n",
    "            # send back reversed string to client \n",
    "            c.send(data+b'\\n') \n",
    "        except ConnectionResetError:\n",
    "            print(\"error\")\n",
    "            print_lock.release()\n",
    "            break\n",
    "            \n",
    "    # connection closed \n",
    "    c.close() \n",
    "  \n",
    "  \n",
    "def Main(): \n",
    "    host = \"127.0.0.1\" \n",
    "#     host = \"192.168.1.104\"\n",
    "        \n",
    "    # reverse a port on your computer \n",
    "    port = 8808\n",
    "    s = socket.socket(socket.AF_INET, socket.SOCK_STREAM) \n",
    "    s.bind((host, port)) \n",
    "    print(\"socket binded to post\", port) \n",
    "  \n",
    "    # put the socket into listening mode \n",
    "    s.listen(5) \n",
    "    print(\"socket is listening\") \n",
    "  \n",
    "    # a forever loop until client wants to exit \n",
    "    while True: \n",
    "  \n",
    "        # establish connection with client \n",
    "        c, addr = s.accept() \n",
    "  \n",
    "        # lock acquired by client \n",
    "        print_lock.acquire() \n",
    "        print('Connected to :', addr[0], ':', addr[1]) \n",
    "        c.send(b'{\"test\":\"test\"}\\n')\n",
    "  \n",
    "        # Start a new thread and return its identifier \n",
    "        start_new_thread(threaded, (c,)) \n",
    "    s.close() \n",
    "\n",
    "Main()\n"
   ]
  },
  {
   "cell_type": "code",
   "execution_count": null,
   "metadata": {},
   "outputs": [],
   "source": []
  },
  {
   "cell_type": "code",
   "execution_count": null,
   "metadata": {},
   "outputs": [],
   "source": []
  },
  {
   "cell_type": "code",
   "execution_count": null,
   "metadata": {},
   "outputs": [],
   "source": []
  }
 ],
 "metadata": {
  "kernelspec": {
   "display_name": "Python 3",
   "language": "python",
   "name": "python3"
  }
 },
 "nbformat": 4,
 "nbformat_minor": 2
}
