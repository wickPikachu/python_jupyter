{
 "cells": [
  {
   "cell_type": "markdown",
   "metadata": {},
   "source": [
    "# Server"
   ]
  },
  {
   "cell_type": "code",
   "execution_count": 2,
   "metadata": {},
   "outputs": [
    {
     "name": "stdout",
     "output_type": "stream",
     "text": [
      "Listening socket server\n",
      "Connected by ('127.0.0.1', 36791)\n",
      "b'Hello, world'\n",
      "b'Hello, world11'\n"
     ]
    }
   ],
   "source": [
    "import socket\n",
    "\n",
    "HOST = '127.0.0.1'  # Standard loopback interface address (localhost)\n",
    "PORT = 8808        # Port to listen on (non-privileged ports are > 1023)\n",
    "\n",
    "with socket.socket(socket.AF_INET, socket.SOCK_STREAM) as s:\n",
    "    s.bind((HOST, PORT))\n",
    "    s.listen()\n",
    "    print('Listening socket server')\n",
    "    conn, addr = s.accept()\n",
    "    with conn:\n",
    "        print('Connected by', addr)\n",
    "        while True:\n",
    "            data = conn.recv(1024)\n",
    "            if not data:\n",
    "                break\n",
    "            print(data)\n",
    "            conn.sendall(data)"
   ]
  },
  {
   "cell_type": "code",
   "execution_count": null,
   "metadata": {},
   "outputs": [
    {
     "name": "stdout",
     "output_type": "stream",
     "text": [
      "socket binded to post 8808\n",
      "socket is listening\n",
      "Connected to : 192.168.1.102 : 6591\n",
      "Bye\n",
      "Connected to : 192.168.1.102 : 6649\n",
      "Bye\n",
      "Connected to : 192.168.1.102 : 6650\n",
      "Bye\n",
      "Connected to : 192.168.1.102 : 6657\n",
      "Bye\n",
      "Connected to : 192.168.1.102 : 6681\n",
      "Bye\n",
      "Connected to : 192.168.1.102 : 6729\n",
      "Bye\n",
      "Connected to : 192.168.1.102 : 6754\n",
      "Bye\n",
      "Connected to : 192.168.1.102 : 6784\n",
      "Bye\n",
      "Connected to : 192.168.1.102 : 6807\n",
      "Bye\n",
      "Connected to : 192.168.1.102 : 6879\n",
      "Bye\n",
      "Connected to : 192.168.1.102 : 6904\n",
      "Bye\n",
      "Connected to : 192.168.1.102 : 6929\n",
      "Bye\n",
      "Connected to : 192.168.1.102 : 6955\n",
      "Bye\n",
      "Connected to : 192.168.1.100 : 43535\n",
      "Bye\n",
      "Connected to : 192.168.1.102 : 6979\n"
     ]
    }
   ],
   "source": [
    "# import socket programming library \n",
    "import socket \n",
    "  \n",
    "# import thread module \n",
    "from _thread import *\n",
    "import threading \n",
    "  \n",
    "print_lock = threading.Lock() \n",
    "  \n",
    "# thread fuction \n",
    "def threaded(c): \n",
    "    while True: \n",
    "  \n",
    "        # data received from client \n",
    "        data = c.recv(1024) \n",
    "        if not data: \n",
    "            print('Bye') \n",
    "              \n",
    "            # lock released on exit \n",
    "            print_lock.release() \n",
    "            break\n",
    "  \n",
    "        # reverse the given string from client \n",
    "#         data = data[::-1] \n",
    "  \n",
    "        # send back reversed string to client \n",
    "        c.send(data) \n",
    "  \n",
    "    # connection closed \n",
    "    c.close() \n",
    "  \n",
    "  \n",
    "def Main(): \n",
    "    host = \"192.168.1.100\" \n",
    "  \n",
    "    # reverse a port on your computer \n",
    "    port = 8808\n",
    "    s = socket.socket(socket.AF_INET, socket.SOCK_STREAM) \n",
    "    s.bind((host, port)) \n",
    "    print(\"socket binded to post\", port) \n",
    "  \n",
    "    # put the socket into listening mode \n",
    "    s.listen(5) \n",
    "    print(\"socket is listening\") \n",
    "  \n",
    "    # a forever loop until client wants to exit \n",
    "    while True: \n",
    "  \n",
    "        # establish connection with client \n",
    "        c, addr = s.accept() \n",
    "  \n",
    "        # lock acquired by client \n",
    "        print_lock.acquire() \n",
    "        print('Connected to :', addr[0], ':', addr[1]) \n",
    "        c.send(b'{\"test\":\"test\"}')\n",
    "  \n",
    "        # Start a new thread and return its identifier \n",
    "        start_new_thread(threaded, (c,)) \n",
    "    s.close() \n",
    "\n",
    "Main()\n"
   ]
  },
  {
   "cell_type": "code",
   "execution_count": null,
   "metadata": {},
   "outputs": [],
   "source": []
  }
 ],
 "metadata": {
  "kernelspec": {
   "display_name": "Python 3",
   "language": "python",
   "name": "python3"
  },
  "language_info": {
   "codemirror_mode": {
    "name": "ipython",
    "version": 3
   },
   "file_extension": ".py",
   "mimetype": "text/x-python",
   "name": "python",
   "nbconvert_exporter": "python",
   "pygments_lexer": "ipython3",
   "version": "3.6.5"
  }
 },
 "nbformat": 4,
 "nbformat_minor": 2
}
